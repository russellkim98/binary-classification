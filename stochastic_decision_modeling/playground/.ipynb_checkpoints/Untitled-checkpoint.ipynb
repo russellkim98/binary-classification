{
 "cells": [
  {
   "cell_type": "code",
   "execution_count": 1,
   "id": "38154f1b-d91b-4199-99dd-1ce1f279ceff",
   "metadata": {},
   "outputs": [
    {
     "name": "stderr",
     "output_type": "stream",
     "text": [
      "2023-12-12 20:10:13.447068: I tensorflow/core/platform/cpu_feature_guard.cc:182] This TensorFlow binary is optimized to use available CPU instructions in performance-critical operations.\n",
      "To enable the following instructions: AVX2 FMA, in other operations, rebuild TensorFlow with the appropriate compiler flags.\n"
     ]
    }
   ],
   "source": [
    "import numpy as np\n",
    "import pandas as pd\n",
    "import plotly.express as px\n",
    "from pprint import pprint\n",
    "import tensorflow as tf  # pylint: disable=g-explicit-tensorflow-version-import\n",
    "import inspect\n",
    "tf.compat.v1.enable_v2_behavior()"
   ]
  },
  {
   "cell_type": "markdown",
   "id": "e09a9607-7a97-4aec-a54c-4a5ee4e12225",
   "metadata": {},
   "source": [
    "## Environment"
   ]
  },
  {
   "cell_type": "code",
   "execution_count": 2,
   "id": "006dd093-a7fa-4a76-a8c4-e33ae7bc6320",
   "metadata": {},
   "outputs": [
    {
     "ename": "NameError",
     "evalue": "name 'BATCH_SIZE' is not defined",
     "output_type": "error",
     "traceback": [
      "\u001b[0;31m---------------------------------------------------------------------------\u001b[0m",
      "\u001b[0;31mNameError\u001b[0m                                 Traceback (most recent call last)",
      "Cell \u001b[0;32mIn[2], line 7\u001b[0m\n\u001b[1;32m      4\u001b[0m means \u001b[38;5;241m=\u001b[39m [\u001b[38;5;241m0.1\u001b[39m, \u001b[38;5;241m0.2\u001b[39m, \u001b[38;5;241m0.3\u001b[39m, \u001b[38;5;241m0.45\u001b[39m, \u001b[38;5;241m0.5\u001b[39m]\n\u001b[1;32m      5\u001b[0m batch_size \u001b[38;5;241m=\u001b[39m \u001b[38;5;241m1\u001b[39m\n\u001b[0;32m----> 7\u001b[0m env \u001b[38;5;241m=\u001b[39m bern_env\u001b[38;5;241m.\u001b[39mBernoulliPyEnvironment(means\u001b[38;5;241m=\u001b[39mmeans, batch_size\u001b[38;5;241m=\u001b[39m\u001b[43mBATCH_SIZE\u001b[49m)\n\u001b[1;32m      8\u001b[0m environment \u001b[38;5;241m=\u001b[39m tf_py_environment\u001b[38;5;241m.\u001b[39mTFPyEnvironment(env)\n",
      "\u001b[0;31mNameError\u001b[0m: name 'BATCH_SIZE' is not defined"
     ]
    }
   ],
   "source": [
    "from tf_agents.bandits.environments import bernoulli_py_environment as bern_env\n",
    "from tf_agents.environments import tf_py_environment\n",
    "# Reward arms\n",
    "means = [0.1, 0.2, 0.3, 0.45, 0.5]\n",
    "batch_size = 1\n",
    "\n",
    "env = bern_env.BernoulliPyEnvironment(means=means, batch_size=BATCH_SIZE)\n",
    "environment = tf_py_environment.TFPyEnvironment(env)"
   ]
  },
  {
   "cell_type": "markdown",
   "id": "c7aa860d-d1ef-4c2e-a0b2-efa59a96ed9d",
   "metadata": {},
   "source": [
    "## Agent"
   ]
  },
  {
   "cell_type": "code",
   "execution_count": 65,
   "id": "ca31989c-b6b9-4d53-a9b1-e1b841eac45a",
   "metadata": {},
   "outputs": [],
   "source": [
    "from tf_agents.bandits.agents import bernoulli_thompson_sampling_agent as bern_ts_agent\n",
    "\n",
    "agent = bern_ts_agent.BernoulliThompsonSamplingAgent(\n",
    "    time_step_spec=environment.time_step_spec(),\n",
    "    action_spec=environment.action_spec(),\n",
    "    dtype=tf.float64,\n",
    "    batch_size=BATCH_SIZE,\n",
    ")"
   ]
  },
  {
   "cell_type": "markdown",
   "id": "9115039a-e528-4bd4-bee1-cbb025a5da38",
   "metadata": {},
   "source": [
    "## Observers (Reward)"
   ]
  },
  {
   "cell_type": "code",
   "execution_count": 66,
   "id": "387656ae-65e9-4ee1-ada8-0e596906d105",
   "metadata": {},
   "outputs": [
    {
     "name": "stdout",
     "output_type": "stream",
     "text": [
      "[0.1, 0.2, 0.3, 0.45, 0.5]\n"
     ]
    }
   ],
   "source": [
    "print(environment.pyenv._means)"
   ]
  },
  {
   "cell_type": "code",
   "execution_count": 67,
   "id": "449fc058-9d05-4320-9e18-672dfaafd3a8",
   "metadata": {},
   "outputs": [],
   "source": [
    "from tf_agents.metrics import tf_metrics\n",
    "from tf_agents.bandits.metrics import tf_metrics as tf_bandit_metrics\n",
    "\n",
    "def optimal_reward_fn(unused_observation):\n",
    "    return np.max(environment.pyenv._means)\n",
    "\n",
    "def optimal_action_fn(unused_observation):\n",
    "    return np.int32(np.argmax(environment.pyenv._means))\n",
    "\n",
    "\n",
    "observers = [\n",
    "    tf_metrics.NumberOfEpisodes(),\n",
    "    tf_metrics.AverageEpisodeLengthMetric(batch_size=environment.batch_size),\n",
    "    tf_metrics.AverageReturnMetric(batch_size=environment.batch_size),\n",
    "    tf_bandit_metrics.RegretMetric(optimal_reward_fn),\n",
    "    tf_bandit_metrics.SuboptimalArmsMetric(optimal_action_fn)\n",
    "  ]"
   ]
  },
  {
   "cell_type": "markdown",
   "id": "818c7999-5b71-490a-9e5b-902f33c3b885",
   "metadata": {},
   "source": [
    "## Driver"
   ]
  },
  {
   "cell_type": "code",
   "execution_count": 68,
   "id": "bea3ebe9-150b-4d7a-859e-acee8e35e2e0",
   "metadata": {},
   "outputs": [],
   "source": [
    "from tf_agents.drivers import dynamic_step_driver\n",
    "steps_per_loop = 1\n",
    "driver = dynamic_step_driver.DynamicStepDriver(\n",
    "  env=environment,\n",
    "  policy=agent.collect_policy,\n",
    "  num_steps=steps_per_loop * environment.batch_size,\n",
    "  observers=observers,\n",
    ")\n",
    "data_spec = agent.policy.trajectory_spec"
   ]
  },
  {
   "cell_type": "code",
   "execution_count": 108,
   "id": "e18e30cb-9acb-4382-bc47-a34453717495",
   "metadata": {},
   "outputs": [
    {
     "name": "stdout",
     "output_type": "stream",
     "text": [
      "<tf_agents.environments.tf_py_environment.TFPyEnvironment object at 0x140e79b50>\n"
     ]
    }
   ],
   "source": [
    "pprint(driver.env.)"
   ]
  },
  {
   "cell_type": "markdown",
   "id": "24d339c6-ee40-485f-a0c0-e09ad68dd865",
   "metadata": {},
   "source": [
    "## Replay buffer"
   ]
  },
  {
   "cell_type": "code",
   "execution_count": 74,
   "id": "a9f672d1-6cb3-473a-937f-0fe1d806a4be",
   "metadata": {},
   "outputs": [],
   "source": [
    "from tf_agents.bandits.replay_buffers import bandit_replay_buffer\n",
    "replay_buffer = bandit_replay_buffer.BanditReplayBuffer(\n",
    "      data_spec=data_spec,\n",
    "      batch_size=batch_size,\n",
    "      max_length=steps_per_loop\n",
    "  )"
   ]
  },
  {
   "cell_type": "markdown",
   "id": "25c83eda-125c-49f5-88f7-9d5149e394ad",
   "metadata": {},
   "source": [
    "## Training"
   ]
  },
  {
   "cell_type": "code",
   "execution_count": 93,
   "id": "1d2cd84e-a49b-49e7-8bd9-2747e78ec140",
   "metadata": {},
   "outputs": [],
   "source": [
    "from tf_agents.eval import metric_utils\n",
    "from tf_agents.metrics import export_utils\n",
    "from io import StringIO\n",
    "import logging\n",
    "log_stream = StringIO()    \n",
    "logging.basicConfig(stream=log_stream, level=logging.NOTSET)\n",
    "\n",
    "def _export_metrics_and_summaries(step, metrics):\n",
    "    \"\"\"Exports metrics and tf summaries.\"\"\"\n",
    "    metric_utils.log_metrics(metrics)\n",
    "    export_utils.export_metrics(step=step, metrics=metrics)\n",
    "    for metric in metrics:\n",
    "      metric.tf_summaries(train_step=step)"
   ]
  },
  {
   "cell_type": "code",
   "execution_count": 94,
   "id": "ed11ed71-8e2b-4301-b5d8-133e04b29a10",
   "metadata": {},
   "outputs": [],
   "source": [
    "starting_loop = 0\n",
    "training_loops = 1000"
   ]
  },
  {
   "cell_type": "code",
   "execution_count": 107,
   "id": "2be94d31-bffe-4f4c-a074-c3af28ee008a",
   "metadata": {},
   "outputs": [
    {
     "data": {
      "text/plain": [
       "<tf_agents.environments.tf_py_environment.TFPyEnvironment at 0x140e79b50>"
      ]
     },
     "execution_count": 107,
     "metadata": {},
     "output_type": "execute_result"
    }
   ],
   "source": [
    "driver.env."
   ]
  },
  {
   "cell_type": "code",
   "execution_count": 102,
   "id": "70524207-e566-4341-bd68-0d39aa8b76bf",
   "metadata": {},
   "outputs": [],
   "source": [
    "driver.run()\n",
    "dataset_it = iter(\n",
    "    replay_buffer.as_dataset(\n",
    "        sample_batch_size=batch_size,\n",
    "        num_steps=100,\n",
    "        single_deterministic_pass=True,\n",
    "    )\n",
    ")"
   ]
  },
  {
   "cell_type": "code",
   "execution_count": 106,
   "id": "6ca01d28-d9b7-4aa7-acae-91ce784e7c55",
   "metadata": {},
   "outputs": [
    {
     "data": {
      "text/plain": [
       "<_MapDataset element_spec=(Trajectory(\n",
       "{'action': TensorSpec(shape=(None, 100), dtype=tf.int32, name=None),\n",
       " 'discount': TensorSpec(shape=(None, 100), dtype=tf.float32, name=None),\n",
       " 'next_step_type': TensorSpec(shape=(None, 100), dtype=tf.int32, name=None),\n",
       " 'observation': TensorSpec(shape=(None, 100), dtype=tf.float32, name=None),\n",
       " 'policy_info': PolicyInfo(log_probability=(), predicted_rewards_mean=(), multiobjective_scalarized_predicted_rewards_mean=(), predicted_rewards_optimistic=(), predicted_rewards_sampled=(), bandit_policy_type=()),\n",
       " 'reward': TensorSpec(shape=(None, 100), dtype=tf.float32, name=None),\n",
       " 'step_type': TensorSpec(shape=(None, 100), dtype=tf.int32, name=None)}), BufferInfo(ids=TensorSpec(shape=(None, 100), dtype=tf.int64, name=None), probabilities=()))>"
      ]
     },
     "execution_count": 106,
     "metadata": {},
     "output_type": "execute_result"
    }
   ],
   "source": [
    "replay_buffer.as_dataset(\n",
    "        sample_batch_size=batch_size,\n",
    "        num_steps=100,\n",
    "        single_deterministic_pass=True,\n",
    "    )"
   ]
  },
  {
   "cell_type": "code",
   "execution_count": 100,
   "id": "220253d2-6d20-423b-a247-8cc211d718af",
   "metadata": {
    "editable": true,
    "slideshow": {
     "slide_type": ""
    },
    "tags": []
   },
   "outputs": [
    {
     "data": {
      "text/plain": [
       "<_io.StringIO at 0x142ffa050>"
      ]
     },
     "execution_count": 100,
     "metadata": {},
     "output_type": "execute_result"
    }
   ],
   "source": [
    "log_stream."
   ]
  },
  {
   "cell_type": "code",
   "execution_count": null,
   "id": "a7ce0dd6-513a-47ce-bf4e-0dbdecd6c6a9",
   "metadata": {},
   "outputs": [],
   "source": [
    "def training_loop(train_step, metrics):\n",
    "    \"\"\"Returns a function that runs a single training loop and logs metrics.\"\"\"\n",
    "    driver.run()\n",
    "    _export_metrics_and_summaries(\n",
    "      step=train_step, metrics=metrics\n",
    "    )\n",
    "    batch_size = driver.env.batch_size\n",
    "    dataset_it = iter(\n",
    "        replay_buffer.as_dataset(\n",
    "            sample_batch_size=batch_size,\n",
    "            num_steps=100,\n",
    "            single_deterministic_pass=True,\n",
    "        )\n",
    "    )\n",
    "    experience, unused_buffer_info = dataset_it.get_next()\n",
    "    set_expected_shape(experience, steps)\n",
    "    loss_info = agent.train(experience)\n",
    "    export_utils.export_metrics(\n",
    "      step=train_step * async_steps_per_loop + batch_id,\n",
    "      metrics=[],\n",
    "      loss_info=loss_info,\n",
    "    )\n",
    "    \n",
    "    replay_buffer.clear()"
   ]
  }
 ],
 "metadata": {
  "kernelspec": {
   "display_name": "Python 3 (ipykernel)",
   "language": "python",
   "name": "python3"
  },
  "language_info": {
   "codemirror_mode": {
    "name": "ipython",
    "version": 3
   },
   "file_extension": ".py",
   "mimetype": "text/x-python",
   "name": "python",
   "nbconvert_exporter": "python",
   "pygments_lexer": "ipython3",
   "version": "3.11.0"
  }
 },
 "nbformat": 4,
 "nbformat_minor": 5
}
