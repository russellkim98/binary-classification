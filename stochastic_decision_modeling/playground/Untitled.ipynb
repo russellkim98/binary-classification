{
 "cells": [
  {
   "cell_type": "code",
   "execution_count": 5,
   "id": "3d518ece-520a-4a8c-a762-5f8bcdd94010",
   "metadata": {},
   "outputs": [],
   "source": [
    "from stochastic_decision_modeling.model.multiarmed_bandit import train"
   ]
  },
  {
   "cell_type": "code",
   "execution_count": 6,
   "id": "ec19e7ef-57b9-4301-9125-bc9cc72d86df",
   "metadata": {},
   "outputs": [],
   "source": [
    "params = train.get_params()"
   ]
  },
  {
   "cell_type": "code",
   "execution_count": null,
   "id": "bb3677ba-91dd-448c-a094-2db63c2f1c80",
   "metadata": {},
   "outputs": [],
   "source": [
    "train.main(params)"
   ]
  },
  {
   "cell_type": "code",
   "execution_count": null,
   "id": "2799e821-58d7-4323-865d-a153c7f070b3",
   "metadata": {},
   "outputs": [],
   "source": []
  }
 ],
 "metadata": {
  "kernelspec": {
   "display_name": "Python 3 (ipykernel)",
   "language": "python",
   "name": "python3"
  },
  "language_info": {
   "codemirror_mode": {
    "name": "ipython",
    "version": 3
   },
   "file_extension": ".py",
   "mimetype": "text/x-python",
   "name": "python",
   "nbconvert_exporter": "python",
   "pygments_lexer": "ipython3",
   "version": "3.11.0"
  }
 },
 "nbformat": 4,
 "nbformat_minor": 5
}
